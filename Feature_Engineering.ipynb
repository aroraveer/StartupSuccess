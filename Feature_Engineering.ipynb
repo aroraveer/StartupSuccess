{
  "cells": [
    {
      "cell_type": "code",
      "execution_count": null,
      "metadata": {
        "colab": {
          "base_uri": "https://localhost:8080/"
        },
        "id": "z8_L7R3DYTam",
        "outputId": "f10d98a8-b9cb-4b77-cc3b-be91b9f38f84"
      },
      "outputs": [
        {
          "output_type": "stream",
          "name": "stdout",
          "text": [
            "Mounted at /content/drive\n"
          ]
        }
      ],
      "source": [
        "#All code in this file is by Veer Arora in conjunction with group members\n",
        "\n",
        "from google.colab import drive\n",
        "drive.mount('/content/drive')"
      ]
    },
    {
      "cell_type": "code",
      "execution_count": null,
      "metadata": {
        "colab": {
          "base_uri": "https://localhost:8080/"
        },
        "id": "6DN2kdS6LkFO",
        "outputId": "8cd84115-c47f-4f7e-d613-eeabb0b29652"
      },
      "outputs": [
        {
          "output_type": "stream",
          "name": "stderr",
          "text": [
            "<ipython-input-2-5c36cf09396a>:5: DtypeWarning: Columns (28,29) have mixed types. Specify dtype option on import or set low_memory=False.\n",
            "  data = pd.read_csv(directory_veer)\n"
          ]
        }
      ],
      "source": [
        "import pandas as pd\n",
        "directory_luis = '/content/drive/MyDrive/Berkeley/Machine Learning 1/Startup Success Machine Learning Folder/Pitchbook/AB1_Cleaned_data_page_1_253+X.csv'\n",
        "directory_vincent = '/content/drive/MyDrive/Startup Success Machine Learning Folder/Pitchbook/AB1_Cleaned_data_page_1_253+X.csv'\n",
        "directory_veer = '/content/drive/MyDrive/Startup Success Machine Learning Folder/Pitchbook/AB1_Cleaned_data_page_1_253+X.csv'\n",
        "data = pd.read_csv(directory_veer)"
      ]
    },
    {
      "cell_type": "code",
      "source": [
        "data.shape"
      ],
      "metadata": {
        "id": "VOvC9kzXgA9-",
        "outputId": "9815fbff-4bba-4b7e-8056-57fae4e6c929",
        "colab": {
          "base_uri": "https://localhost:8080/"
        }
      },
      "execution_count": null,
      "outputs": [
        {
          "output_type": "execute_result",
          "data": {
            "text/plain": [
              "(30217, 33)"
            ]
          },
          "metadata": {},
          "execution_count": 3
        }
      ]
    },
    {
      "cell_type": "markdown",
      "metadata": {
        "id": "Lh5gi2_fLkFP"
      },
      "source": [
        "## Creating interesting Features from Investors"
      ]
    },
    {
      "cell_type": "markdown",
      "metadata": {
        "id": "8mWTVLakLkFQ"
      },
      "source": [
        "Top VC (early-stage and sorted by performance - Pitchbook Data)"
      ]
    },
    {
      "cell_type": "code",
      "execution_count": null,
      "metadata": {
        "id": "LBwcCXlkLkFR"
      },
      "outputs": [],
      "source": [
        "# define the top 100 early-stage VC funds by performance (Pitchbook Data)\n",
        "top_100_vc_funds = [\n",
        "    'Sequoia Capital', 'Menlo Ventures', 'Industry Ventures', 'Kleiner Perkins',\n",
        "    'TCV', 'Union Square Ventures', 'Inveready Asset Management', 'Khosla Ventures',\n",
        "    'Korea Investment Partners', 'Maveron', 'New Enterprise Associates', 'Oregon Venture Fund',\n",
        "    'Trident Capital', 'DCM Ventures', 'Forbion', 'G Squared', 'IVP', 'Northzone Ventures',\n",
        "    'Union Grove Venture Partners', 'Accel', 'ARCH Venture Partners', 'Greycroft',\n",
        "    'Index Ventures', 'New Science Ventures', 'Nordic Eye Venture Capital', 'Scale Venture Partners',\n",
        "    'Sierra Ventures', 'Spark Capital', 'Storm Ventures', 'The Column Group', 'True Ventures',\n",
        "    '5AM Ventures', 'Anthos Capital', 'Bay City Capital', 'BIP Ventures', 'Boston Capital Ventures',\n",
        "    'Columbia Capital', 'Emergent Ventures', 'EnCap Flatrock Midstream', 'FinSight Ventures',\n",
        "    'Greenspring Associates', 'Inspiration Ventures', 'Mayfield Fund', 'Morgenthaler Ventures',\n",
        "    'NeoMed Management', 'OpenView Venture Partners', 'Opus Capital', 'Pelion Venture Partners',\n",
        "    'Resolution Ventures', 'Santé Ventures', 'Uncork Capital', 'Western Technology Investment',\n",
        "    'XVC', 'YL Ventures', '3one4 Capital', 'AdvantEdge Founders', 'Aisling Capital', 'Alta Partners',\n",
        "    'Arboretum Ventures', 'Asset Management Ventures', 'Austin Ventures', 'Avalon Ventures',\n",
        "    'Bay Partners', 'Benchmark Capital Holdings', 'BlueYard Capital', 'BMW i Ventures',\n",
        "    'Boulder Ventures', 'Brandon Capital', 'Centennial Ventures', 'Cervin Ventures',\n",
        "    'Collab+Currency', 'CP Ventures', 'Crosslink', 'DBL Partners', 'Divergent Ventures',\n",
        "    'DN Capital', 'Emergence (Financial Services)', 'Energy Impact Partners', 'FINTOP Capital',\n",
        "    'First Analysis', 'Flagship Pioneering', 'General Catalyst', 'Grayscale VC', 'Harpoon VC',\n",
        "    'HenQ', 'Hyde Park Venture Partners', 'IA Capital Group', 'IA Ventures', 'India Quotient',\n",
        "    'Initialized Capital Management', 'INP Capital', 'Inventus Capital Partners', 'IQ Capital Partners',\n",
        "    'Lanai Ventures', 'Lanchi Ventures', 'Lightspeed Venture Partners', 'Longitude Capital',\n",
        "    'Lumira Ventures', 'Lux Capital', 'Magma Partners'\n",
        "]\n",
        "\n",
        "\n",
        "top_100_vc_funds_set = set(top_100_vc_funds)\n",
        "\n",
        "# flag if any top 100 VC fund is present\n",
        "def flag_top_vc(investors):\n",
        "    if pd.isnull(investors):\n",
        "        return 0\n",
        "    investor_list = [inv.strip() for inv in investors.split(',')]\n",
        "    return int(any(inv in top_100_vc_funds_set for inv in investor_list))\n",
        "\n",
        "data['Top100earlystageVC_sortedby_performance'] = data['Investors'].apply(flag_top_vc)\n"
      ]
    },
    {
      "cell_type": "markdown",
      "metadata": {
        "id": "8MveBXZZLkFR"
      },
      "source": [
        "Top VC (seed and sorted by amount of investments - Pitchbook Data)"
      ]
    },
    {
      "cell_type": "code",
      "execution_count": null,
      "metadata": {
        "id": "sOmcAdFULkFS"
      },
      "outputs": [],
      "source": [
        "# define the top 100 seed vcs by amount of investments\n",
        "top_100_seed_vcs = [\n",
        "    'Antler', 'Pioneer Fund', 'Gaingels', 'Enterprise Ireland', 'Alumni Ventures',\n",
        "    'SOSV', 'Sequoia Capital', 'Andreessen Horowitz', 'Elevate Ventures', 'Everywhere Ventures',\n",
        "    'Precursor Ventures', 'Soma Capital', 'Calm Ventures', 'FJ Labs', 'General Catalyst',\n",
        "    'High-Tech Gründerfonds', 'Kima Ventures', 'South Park Commons', 'TheVentures', 'Climate Capital',\n",
        "    'Liquid 2 Ventures', 'Bluepoint Partners', 'MH Ventures', 'East Ventures', 'SFC Capital',\n",
        "    'Triangle Tweener Fund', 'Accel', 'CNT Tech', '8VC', 'Big Brain Holdings', 'Hack VC', 'HAX',\n",
        "    'Hustle Fund', 'Mana Ventures', 'Orange DAO', 'Bossa Invest', 'Robot Ventures', 'Cogitent Ventures',\n",
        "    'Cypher Capital (Dubai)', 'Haatch', 'BoxGroup', 'Connecticut Innovations', 'Khosla Ventures',\n",
        "    'Skyland Ventures', 'Blockchain Founders Fund', 'Contango Digital Assets', 'Loyal VC',\n",
        "    'Pear (California)', 'Polychain Capital', 'Speedinvest', 'Binance Labs', 'Hashkey Capital',\n",
        "    'Lightspeed Venture Partners', 'Mitsubishi UFJ Capital', 'NFX', 'SBXi', 'Service Provider Capital',\n",
        "    'Symbolic Capital', 'Waterdrip Capital', 'Goodwater Capital', 'GrowthX Capital', 'Index Ventures',\n",
        "    'SV Angel', 'BonAngels Venture Partners', 'Boost VC', 'Borderless Capital', 'Mirana Ventures',\n",
        "    'NxGen Ventures', 'Rebel Fund', 'Seedcamp', 'Arrington Capital', 'Mashup Angels',\n",
        "    'Phoenix Investment Club (San Francisco)', 'Vento', 'Venture Catalysts (Mumbai)',\n",
        "    'WAGMI Ventures (New York)', 'Anagram (Cayman Islands)', 'Berkeley SkyDeck Fund', 'Felicis',\n",
        "    'K5 Global', 'Orbit Startups', 'Wayfinder Ventures', 'Animoca Ventures', 'ANOBAKA', 'ANRI',\n",
        "    'Axel Springer Porsche', 'Breed VC', 'Draper Associates', 'E14 Fund', 'First Round Capital',\n",
        "    'Hatcher+', 'Keiretsu Forum', 'P2 Ventures', 'Ritual Capital', 'Samsung NEXT Ventures',\n",
        "    'Selini Capital', 'ABCDE Capital', 'City Light Capital', 'dao5', 'Delphi Ventures (Ne'\n",
        "]\n",
        "\n",
        "\n",
        "top_100_seed_vcs_set = set(top_100_seed_vcs)\n",
        "\n",
        "# flag if any top 100 seed VC fund is present\n",
        "def flag_top_seed_vc(investors):\n",
        "    if pd.isnull(investors):\n",
        "        return 0\n",
        "    investor_list = [inv.strip() for inv in investors.split(',')]\n",
        "    return int(any(inv in top_100_seed_vcs_set for inv in investor_list))\n",
        "\n",
        "# apply the function\n",
        "data['Top100SeedVC_sorted_by_numinvestments'] = data['Investors'].apply(flag_top_seed_vc)\n"
      ]
    },
    {
      "cell_type": "markdown",
      "metadata": {
        "id": "rC4IECzWLkFS"
      },
      "source": [
        "Accelerator (top 100 accelerator/incubator sorted by total investments - Pitchbook Data)"
      ]
    },
    {
      "cell_type": "code",
      "execution_count": null,
      "metadata": {
        "id": "gJn1wkIpLkFT"
      },
      "outputs": [],
      "source": [
        "# top 100 accelerator/incubator sorted by total investments\n",
        "top_100_accelerators = [\n",
        "    'Innovate UK', 'Y Combinator', 'Plug and Play Tech Center', 'Techstars',\n",
        "    '500 Global', 'Google for Startups', 'Tech Incubator Program for Startups',\n",
        "    'Village Capital', 'Capital Factory', 'Startupbootcamp', 'Creative Destruction Lab',\n",
        "    'Microsoft for Startups', 'Venture Kick', 'Start-Up Chile', 'Wayra', 'StartX (US)',\n",
        "    'Astralabs', 'Alchemist Accelerator', 'Cyberport Hong Kong',\n",
        "    'Ben Franklin Technology Partners of Southeastern Pennsylvania', 'Berkeley SkyDeck',\n",
        "    'Startup Wise Guys', 'gener8tor', 'LAUNCH Fund', 'Flat6labs', 'InnoFounder', 'QB3',\n",
        "    'Rockstart', 'EIT Digital', 'Entrepreneurs Roundtable Accelerator', 'SICTIC',\n",
        "    'Outlier Ventures', 'IndieBio', 'Tenity', 'Greentown Labs', 'Founders Factory',\n",
        "    'EIT KIC Urban Mobility', 'Parallel18', 'Invest Ottawa', 'StartupLab',\n",
        "    'Unicorn Factory Lisboa', 'Velocity (University of Waterloo)', 'Tech Nation Group',\n",
        "    'NDRC', 'IIMA Ventures', 'imec.istart', 'Quake Capital', '500 Startups LatAm',\n",
        "    'Brinc (Hong Kong)', 'FuturePlay', 'Startmate', 'EvoNexus', 'TusStar Incubator',\n",
        "    'Surge (Accelerator)', 'R/GA Ventures', 'Neo (Consulting Services (B2B))',\n",
        "    'Ben Franklin Technology Partners of Central and Northern Pennsylvania', 'Hub71',\n",
        "    'Innovationsfonden', 'Primer (South Korea)', 'Los Angeles Cleantech Incubator',\n",
        "    'Third Derivative', 'Capital Innovators', 'Miracleplus', 'Alliance DAO', 'Betaworks',\n",
        "    'Open Network Lab', 'G-STARTUP', '9Unicorns', 'Society for Innovation and Entrepreneurship',\n",
        "    'Iterative Accelerator', 'IIIT-H Foundation', 'Sustainable Ventures', 'ICA Fund',\n",
        "    'Center for Creative Economy and Innovation', 'Georgia Tech VentureLab', 'D-Camp',\n",
        "    'Digital Magics', 'Elemental Impact', 'TechFounders', '50 Partners', 'IMT Starter',\n",
        "    'Upekkha', 'AppWorks', 'MeitY Startup Hub', 'Ann Arbor SPARK', 'XRC Ventures',\n",
        "    'Thrive by SVG Ventures', 'IIT Madras Incubation Cell', 'Expa', 'Venture Square',\n",
        "    'InsurTech NY', 'Seoul National University Technology Holdings', 'Activate Global',\n",
        "    'Innosphere Ventures', 'Fongit', 'GSF India', 'X21 Digital', 'Start Path', 'Start-up BW'\n",
        "]\n",
        "\n",
        "\n",
        "top_100_accelerators_set = set(top_100_accelerators)\n",
        "\n",
        "# flag if any top 100 accelerator/incubator is present\n",
        "def flag_top_accelerator(investors):\n",
        "    if pd.isnull(investors):\n",
        "        return 0\n",
        "    investor_list = [inv.strip() for inv in investors.split(',')]\n",
        "    return int(any(inv in top_100_accelerators_set for inv in investor_list))\n",
        "\n",
        "# apply the function\n",
        "data['Top100Accelerator_Flag'] = data['Investors'].apply(flag_top_accelerator)\n"
      ]
    },
    {
      "cell_type": "markdown",
      "metadata": {
        "id": "Jcc9qEijLkFT"
      },
      "source": [
        "Number of Investors"
      ]
    },
    {
      "cell_type": "code",
      "execution_count": null,
      "metadata": {
        "id": "IIVGZab3LkFU"
      },
      "outputs": [],
      "source": [
        "data['Investors'] = data['Investors'].fillna('').astype(str)\n",
        "\n",
        "# Create set of unique investors\n",
        "unique_investors = set(data['Investors'].str.split(',').sum())\n",
        "\n",
        "# number of unique new investors for each row\n",
        "data['Num_Unique_New_Investors'] = data['Investors'].apply(\n",
        "    lambda x: len(set(x.split(',')).intersection(unique_investors))\n",
        ")"
      ]
    },
    {
      "cell_type": "markdown",
      "metadata": {
        "id": "kgAJm0J3LkFU"
      },
      "source": [
        "## Creating Features with Founding Year and Deal Date"
      ]
    },
    {
      "cell_type": "markdown",
      "metadata": {
        "id": "2bXvoE2OLkFU"
      },
      "source": [
        "Create Features: Company Age at Deal Date, Year of Deal, Business Quarter of Deal"
      ]
    },
    {
      "cell_type": "code",
      "execution_count": null,
      "metadata": {
        "id": "uRf3gYLuLkFU"
      },
      "outputs": [],
      "source": [
        "# convert Deal Date to datetime format\n",
        "data['Deal Date'] = pd.to_datetime(data['Deal Date'], errors='coerce')"
      ]
    },
    {
      "cell_type": "code",
      "execution_count": null,
      "metadata": {
        "id": "7W1c3bUaLkFV"
      },
      "outputs": [],
      "source": [
        "# Feature 1: Year of Deal\n",
        "data['Year_of_Deal'] = data['Deal Date'].dt.year\n",
        "\n",
        "# Feature 2: Company Age at Deal Date\n",
        "data['Company_Age_at_Deal_Date'] = data['Year_of_Deal'] - data['Year Founded']\n",
        "\n",
        "# Feature 3: Busienss Quater\n",
        "data['Business_Quarter_at_Deal'] = data['Deal Date'].dt.quarter\n",
        "quarter_mapping = {1: 'Q1', 2: 'Q2', 3: 'Q3', 4: 'Q4'}\n",
        "data['Business_Quarter_at_Deal'] = data['Business_Quarter_at_Deal'].map(quarter_mapping)\n"
      ]
    },
    {
      "cell_type": "markdown",
      "metadata": {
        "id": "1nEf9Ps30eZ-"
      },
      "source": [
        "## Further cleaning since Deal Date has null values"
      ]
    },
    {
      "cell_type": "code",
      "execution_count": null,
      "metadata": {
        "colab": {
          "base_uri": "https://localhost:8080/"
        },
        "id": "Cpl5mlU2y2CR",
        "outputId": "5941893b-8bb6-4824-f25f-5d61624c04ed"
      },
      "outputs": [
        {
          "output_type": "execute_result",
          "data": {
            "text/plain": [
              "2849"
            ]
          },
          "metadata": {},
          "execution_count": 100
        }
      ],
      "source": [
        "data['Deal Date'].isnull().sum()"
      ]
    },
    {
      "cell_type": "markdown",
      "source": [],
      "metadata": {
        "id": "PSevVizKsDMB"
      }
    },
    {
      "cell_type": "markdown",
      "metadata": {
        "id": "wHjeiYnrLkFV"
      },
      "source": [
        "## Creating Features with HQ Location"
      ]
    },
    {
      "cell_type": "code",
      "execution_count": null,
      "metadata": {
        "id": "_N2u03G5LkFV"
      },
      "outputs": [],
      "source": [
        "data['HQ_State'] = data['HQ Location'].str.split(', ').str[-1]\n",
        "data['HQ_City'] = data['HQ Location'].str.split(', ').str[0]"
      ]
    },
    {
      "cell_type": "markdown",
      "metadata": {
        "id": "YdLL2GT6LkFV"
      },
      "source": [
        "Create Region"
      ]
    },
    {
      "cell_type": "code",
      "execution_count": null,
      "metadata": {
        "id": "2sAab_M5LkFV"
      },
      "outputs": [],
      "source": [
        "# Mapping State to region:\n",
        "region_map = {\n",
        "    # west coast\n",
        "    'CA': 'West Coast', 'WA': 'West Coast', 'OR': 'West Coast',\n",
        "\n",
        "    # east coast\n",
        "    'NY': 'East Coast', 'NJ': 'East Coast', 'MA': 'East Coast', 'CT': 'East Coast',\n",
        "    'RI': 'East Coast', 'NH': 'East Coast', 'ME': 'East Coast', 'VT': 'East Coast',\n",
        "    'PA': 'East Coast', 'DE': 'East Coast', 'MD': 'East Coast', 'VA': 'East Coast',\n",
        "    'NC': 'East Coast', 'SC': 'East Coast', 'GA': 'East Coast', 'FL': 'East Coast',\n",
        "    'DC': 'East Coast',\n",
        "\n",
        "    # midwest\n",
        "    'IL': 'Midwest', 'IN': 'Midwest', 'MI': 'Midwest', 'OH': 'Midwest', 'WI': 'Midwest',\n",
        "    'IA': 'Midwest', 'KS': 'Midwest', 'MN': 'Midwest', 'MO': 'Midwest', 'NE': 'Midwest',\n",
        "    'ND': 'Midwest', 'SD': 'Midwest',\n",
        "\n",
        "    # south\n",
        "    'TX': 'South', 'OK': 'South', 'AR': 'South', 'LA': 'South',\n",
        "    'KY': 'South', 'TN': 'South', 'MS': 'South', 'AL': 'South',\n",
        "    'WV': 'South',\n",
        "\n",
        "    # southwest\n",
        "    'AZ': 'Southwest', 'NM': 'Southwest', 'NV': 'Southwest', 'UT': 'Southwest',\n",
        "\n",
        "    # rocky mountains\n",
        "    'CO': 'Rocky Mountains', 'ID': 'Rocky Mountains', 'MT': 'Rocky Mountains', 'WY': 'Rocky Mountains',\n",
        "\n",
        "    # pacific\n",
        "    'AK': 'Pacific', 'HI': 'Pacific',\n",
        "\n",
        "    # Non-continental\n",
        "    'PR': 'Non-continental',\n",
        "    'VI': 'Non-continental',\n",
        "    'GU': 'Non-continental',\n",
        "    'AS': 'Non-continental',\n",
        "    'MP': 'Non-continental',\n",
        "}\n",
        "\n",
        "# apply  mapping\n",
        "data['HQ_Geographical_Region'] = data['HQ_State'].map(region_map)\n"
      ]
    },
    {
      "cell_type": "markdown",
      "metadata": {
        "id": "KEq73q4hLkFW"
      },
      "source": [
        "Create Tech Hub"
      ]
    },
    {
      "cell_type": "code",
      "execution_count": null,
      "metadata": {
        "id": "DDdXHye6LkFW"
      },
      "outputs": [],
      "source": [
        "# cities that are tech hubs based\n",
        "##\n",
        "# Data Provided from https://startupgenome.com/articles/silicon-valley-leads-discover-north-americas-top-startup-ecosystems\n",
        "##\n",
        "tech_hubs = [\n",
        "    'Silicon Valley, CA', 'San Francisco, CA', 'Menlo Park, CA', 'Palo Alto, CA',\n",
        "    'New York, NY', 'Los Angeles, CA', 'Boston, MA', 'Washington, D.C.',\n",
        "    'Miami, FL', 'Chicago, IL', 'San Diego, CA', 'Seattle, WA',\n",
        "    'Philadelphia, PA', 'Austin, TX', 'Atlanta, GA', 'Denver, CO',\n",
        "    'Boulder, CO', 'Salt Lake City, UT', 'Provo, UT', 'Dallas, TX',\n",
        "    'Detroit, MI', 'Research Triangle, NC', 'Houston, TX',\n",
        "    'Minneapolis, MN', 'Phoenix, AZ', 'Orlando, FL', 'Pittsburgh, PA',\n",
        "    'Tampa, FL', 'Portland, OR', 'Wilmington, DE', 'Charlotte, NC'\n",
        "]\n",
        "\n",
        "# flag when HQ Location is a tech hub\n",
        "data['HQ_at_Tech_Hub'] = data['HQ Location'].isin(tech_hubs).astype(int)\n"
      ]
    },
    {
      "cell_type": "code",
      "execution_count": null,
      "metadata": {
        "colab": {
          "base_uri": "https://localhost:8080/"
        },
        "id": "KmFsjbMwLkFW",
        "outputId": "5f840d7f-b6e5-4fe3-e79a-48a8e9e4d612"
      },
      "outputs": [
        {
          "output_type": "execute_result",
          "data": {
            "text/plain": [
              "Index(['Company ID', 'VC Round', 'Deal No.', 'Current Employees',\n",
              "       'Year Founded', 'Deal Date', 'City', 'CEO Biography', 'CEO Education',\n",
              "       'Keywords', 'Current Business Status', 'Primary Industry Sector',\n",
              "       'Deal Type', 'Deal Type 2', 'Deal Status', 'Financing Status',\n",
              "       'Business Status', 'Primary Industry Code', 'Vertical', 'Description',\n",
              "       'HQ Location', 'Deal Size', 'Raised to Date', 'Total Invested Equity',\n",
              "       'Post Valuation', 'Revenue', 'Active Patent Documents',\n",
              "       'Total Patent Documents', 'Pending Patent Documents', 'Net Income',\n",
              "       'EBITDA', 'Gross Profit', 'Investors',\n",
              "       'Top100earlystageVC_sortedby_performance',\n",
              "       'Top100SeedVC_sorted_by_numinvestments', 'Top100Accelerator_Flag',\n",
              "       'Num_Unique_New_Investors', 'Year_of_Deal', 'Company_Age_at_Deal_Date',\n",
              "       'Business_Quarter_at_Deal', 'HQ_State', 'HQ_City',\n",
              "       'HQ_Geographical_Region', 'HQ_at_Tech_Hub'],\n",
              "      dtype='object')"
            ]
          },
          "metadata": {},
          "execution_count": 104
        }
      ],
      "source": [
        "data.columns"
      ]
    },
    {
      "cell_type": "code",
      "execution_count": null,
      "metadata": {
        "id": "3dZoBu6bLqgC"
      },
      "outputs": [],
      "source": [
        "final_df = data"
      ]
    },
    {
      "cell_type": "markdown",
      "metadata": {
        "id": "ZiX1u_UdMc7g"
      },
      "source": [
        "## Filter for completed deals only"
      ]
    },
    {
      "cell_type": "code",
      "execution_count": null,
      "metadata": {
        "id": "_DOaEyxLLx8_"
      },
      "outputs": [],
      "source": [
        "final_df = final_df[final_df[\"Deal Status\"] == \"Completed\"]"
      ]
    },
    {
      "cell_type": "markdown",
      "metadata": {
        "id": "AsHJbgeBMlN6"
      },
      "source": [
        "## Identify first and last funding rounds and create target variable"
      ]
    },
    {
      "cell_type": "code",
      "execution_count": null,
      "metadata": {
        "colab": {
          "base_uri": "https://localhost:8080/",
          "height": 53
        },
        "id": "FWnhfZxhMBQz",
        "outputId": "6f584cab-f4b5-452e-b557-9814df5380e8"
      },
      "outputs": [
        {
          "output_type": "execute_result",
          "data": {
            "text/plain": [
              "\"\\nfinal_df['Post Valuation'] = pd.to_numeric(final_df['Post Valuation'], errors='coerce')\\nfinal_df['Total Invested Equity'] = pd.to_numeric(final_df['Total Invested Equity'], errors='coerce')\\nfinal_df['Raised to Date'] = pd.to_numeric(final_df['Raised to Date'], errors='coerce')\\n\""
            ],
            "application/vnd.google.colaboratory.intrinsic+json": {
              "type": "string"
            }
          },
          "metadata": {},
          "execution_count": 112
        }
      ],
      "source": [
        "# Change datatypes to float in order to create the target variables\n",
        "\n",
        "final_df[\"Post Valuation\"] = [float(str(i).replace(\",\", \"\")) for i in final_df[\"Post Valuation\"]]\n",
        "final_df[\"Raised to Date\"] = [float(str(i).replace(\",\", \"\")) for i in final_df[\"Raised to Date\"]]\n",
        "final_df[\"Total Invested Equity\"] = [float(str(i).replace(\",\", \"\")) for i in final_df[\"Total Invested Equity\"]]\n",
        "final_df[\"Deal Size\"] = [float(str(i).replace(\",\", \"\")) for i in final_df[\"Deal Size\"]]\n",
        "\n",
        "\"\"\"\n",
        "final_df['Post Valuation'] = pd.to_numeric(final_df['Post Valuation'], errors='coerce')\n",
        "final_df['Total Invested Equity'] = pd.to_numeric(final_df['Total Invested Equity'], errors='coerce')\n",
        "final_df['Raised to Date'] = pd.to_numeric(final_df['Raised to Date'], errors='coerce')\n",
        "\"\"\""
      ]
    },
    {
      "cell_type": "code",
      "execution_count": null,
      "metadata": {
        "id": "P264VmKKMIn8"
      },
      "outputs": [],
      "source": [
        "# Creates columns indicating whether a deal is the first/last funding round\n",
        "# Creates target variables, indicating whetehr a company became a unicorn or raised more than 100 million in funding\n",
        "def create_targets(df):\n",
        "\n",
        "    sorted_df = df.sort_values(['Company ID', 'Deal No.'])\n",
        "\n",
        "    sorted_df['is_first_round'] = sorted_df.groupby('Company ID')['Deal No.'].transform('first') == sorted_df['Deal No.']\n",
        "    sorted_df['is_first_round'] = sorted_df['is_first_round'].astype(int)\n",
        "\n",
        "    sorted_df['is_last_round'] = sorted_df.groupby('Company ID')['Deal No.'].transform('last') == sorted_df['Deal No.']\n",
        "    sorted_df['is_last_round'] = sorted_df['is_last_round'].astype(int)\n",
        "\n",
        "    last_rounds = sorted_df[sorted_df[\"is_last_round\"] == 1]\n",
        "\n",
        "    #Create Unicorn Column\n",
        "    unicorn_companies = set(last_rounds[last_rounds['Post Valuation'] > 1000]['Company ID'])\n",
        "    sorted_df['Unicorn'] = sorted_df['Company ID'].apply(lambda x: 1 if x in unicorn_companies else 0)\n",
        "\n",
        "    #Create 'Valuation > 100m' Column\n",
        "    valuation_100m = set(last_rounds[last_rounds['Post Valuation'] > 100]['Company ID'])\n",
        "    sorted_df['Valuation > 100m'] = sorted_df['Company ID'].apply(lambda x: 1 if x in valuation_100m else 0)\n",
        "\n",
        "    # Create 'Raised > 100m funding' Column\n",
        "    raised_100m = set(last_rounds[last_rounds['Raised to Date'] > 100]['Company ID'])\n",
        "    sorted_df['Raised > 100m'] = sorted_df['Company ID'].apply(lambda x: 1 if x in raised_100m else 0)\n",
        "\n",
        "    sorted_df.sort_index(inplace=True)\n",
        "\n",
        "    return sorted_df"
      ]
    },
    {
      "cell_type": "code",
      "execution_count": null,
      "metadata": {
        "id": "WPFT7PTLMJuK"
      },
      "outputs": [],
      "source": [
        "final_df = create_targets(final_df)"
      ]
    },
    {
      "cell_type": "markdown",
      "source": [
        "## Finding Profit and Loss"
      ],
      "metadata": {
        "id": "18b2aryduLXr"
      }
    },
    {
      "cell_type": "code",
      "source": [
        "#share_acq = data['Deal Size']/data['Post Valuation']\n",
        "\n",
        "valid_first_rounds = final_df[(final_df['is_first_round'] == 1) & final_df['Post Valuation'].notna() & final_df['Deal Size'].notna()]\n",
        "valid_last_rounds = final_df[(final_df['is_last_round'] == 1) & final_df['Post Valuation'].notna() & final_df['Deal Size'].notna()]\n",
        "\n",
        "valid_companies = set(valid_first_rounds['Company ID']).intersection(valid_last_rounds['Company ID'])\n",
        "\n",
        "result = final_df[final_df['Company ID'].isin(valid_companies) & (final_df['is_first_round'] | final_df['is_last_round'])]\n",
        "\n",
        "result = result[result['Valuation > 100m'] == 1]\n",
        "fail = final_df[(final_df['Valuation > 100m'] == 0) & (final_df['is_first_round'] == 1) & (final_df['Deal Size'].notna())]"
      ],
      "metadata": {
        "id": "fMOKlV6FPND3"
      },
      "execution_count": null,
      "outputs": []
    },
    {
      "cell_type": "markdown",
      "source": [
        "## Profitable Company Metrics"
      ],
      "metadata": {
        "id": "lsrtyuSxwczU"
      }
    },
    {
      "cell_type": "code",
      "source": [
        "profit = []\n",
        "\n",
        "#result['Deal Size'] = pd.to_numeric(result['Deal Size'], errors='coerce')\n",
        "#result['Post Valuation'] = pd.to_numeric(result['Post Valuation'], errors='coerce')\n",
        "\n",
        "for company_id in result['Company ID'].unique():\n",
        "    company_data = result[result['Company ID'] == company_id]\n",
        "    if len(company_data) == 1:\n",
        "      continue\n",
        "    else:\n",
        "        first_round = company_data[company_data['is_first_round'] == 1].iloc[0]\n",
        "        last_round = company_data[company_data['is_last_round'] == 1].iloc[0]\n",
        "\n",
        "        initial_share = first_round['Deal Size']/first_round['Post Valuation']\n",
        "        final_share_value = initial_share * last_round['Post Valuation']\n",
        "        share_acquired = final_share_value - first_round['Deal Size']\n",
        "\n",
        "    profit.append({'Company ID': company_id, 'Profit': share_acquired})\n",
        "\n",
        "result_df = pd.DataFrame(profit)\n",
        "\n",
        "result_df.describe()"
      ],
      "metadata": {
        "colab": {
          "base_uri": "https://localhost:8080/",
          "height": 300
        },
        "id": "NsKb7xiXwfrs",
        "outputId": "91161926-f49f-434d-be28-e8c027aa130d"
      },
      "execution_count": null,
      "outputs": [
        {
          "output_type": "execute_result",
          "data": {
            "text/plain": [
              "            Profit\n",
              "count   618.000000\n",
              "mean    201.816302\n",
              "std     498.116102\n",
              "min       0.000000\n",
              "25%      37.888571\n",
              "50%      68.515947\n",
              "75%     166.342778\n",
              "max    8717.180233"
            ],
            "text/html": [
              "\n",
              "  <div id=\"df-48441925-7245-472a-819b-2413d9a03e9f\" class=\"colab-df-container\">\n",
              "    <div>\n",
              "<style scoped>\n",
              "    .dataframe tbody tr th:only-of-type {\n",
              "        vertical-align: middle;\n",
              "    }\n",
              "\n",
              "    .dataframe tbody tr th {\n",
              "        vertical-align: top;\n",
              "    }\n",
              "\n",
              "    .dataframe thead th {\n",
              "        text-align: right;\n",
              "    }\n",
              "</style>\n",
              "<table border=\"1\" class=\"dataframe\">\n",
              "  <thead>\n",
              "    <tr style=\"text-align: right;\">\n",
              "      <th></th>\n",
              "      <th>Profit</th>\n",
              "    </tr>\n",
              "  </thead>\n",
              "  <tbody>\n",
              "    <tr>\n",
              "      <th>count</th>\n",
              "      <td>618.000000</td>\n",
              "    </tr>\n",
              "    <tr>\n",
              "      <th>mean</th>\n",
              "      <td>201.816302</td>\n",
              "    </tr>\n",
              "    <tr>\n",
              "      <th>std</th>\n",
              "      <td>498.116102</td>\n",
              "    </tr>\n",
              "    <tr>\n",
              "      <th>min</th>\n",
              "      <td>0.000000</td>\n",
              "    </tr>\n",
              "    <tr>\n",
              "      <th>25%</th>\n",
              "      <td>37.888571</td>\n",
              "    </tr>\n",
              "    <tr>\n",
              "      <th>50%</th>\n",
              "      <td>68.515947</td>\n",
              "    </tr>\n",
              "    <tr>\n",
              "      <th>75%</th>\n",
              "      <td>166.342778</td>\n",
              "    </tr>\n",
              "    <tr>\n",
              "      <th>max</th>\n",
              "      <td>8717.180233</td>\n",
              "    </tr>\n",
              "  </tbody>\n",
              "</table>\n",
              "</div>\n",
              "    <div class=\"colab-df-buttons\">\n",
              "\n",
              "  <div class=\"colab-df-container\">\n",
              "    <button class=\"colab-df-convert\" onclick=\"convertToInteractive('df-48441925-7245-472a-819b-2413d9a03e9f')\"\n",
              "            title=\"Convert this dataframe to an interactive table.\"\n",
              "            style=\"display:none;\">\n",
              "\n",
              "  <svg xmlns=\"http://www.w3.org/2000/svg\" height=\"24px\" viewBox=\"0 -960 960 960\">\n",
              "    <path d=\"M120-120v-720h720v720H120Zm60-500h600v-160H180v160Zm220 220h160v-160H400v160Zm0 220h160v-160H400v160ZM180-400h160v-160H180v160Zm440 0h160v-160H620v160ZM180-180h160v-160H180v160Zm440 0h160v-160H620v160Z\"/>\n",
              "  </svg>\n",
              "    </button>\n",
              "\n",
              "  <style>\n",
              "    .colab-df-container {\n",
              "      display:flex;\n",
              "      gap: 12px;\n",
              "    }\n",
              "\n",
              "    .colab-df-convert {\n",
              "      background-color: #E8F0FE;\n",
              "      border: none;\n",
              "      border-radius: 50%;\n",
              "      cursor: pointer;\n",
              "      display: none;\n",
              "      fill: #1967D2;\n",
              "      height: 32px;\n",
              "      padding: 0 0 0 0;\n",
              "      width: 32px;\n",
              "    }\n",
              "\n",
              "    .colab-df-convert:hover {\n",
              "      background-color: #E2EBFA;\n",
              "      box-shadow: 0px 1px 2px rgba(60, 64, 67, 0.3), 0px 1px 3px 1px rgba(60, 64, 67, 0.15);\n",
              "      fill: #174EA6;\n",
              "    }\n",
              "\n",
              "    .colab-df-buttons div {\n",
              "      margin-bottom: 4px;\n",
              "    }\n",
              "\n",
              "    [theme=dark] .colab-df-convert {\n",
              "      background-color: #3B4455;\n",
              "      fill: #D2E3FC;\n",
              "    }\n",
              "\n",
              "    [theme=dark] .colab-df-convert:hover {\n",
              "      background-color: #434B5C;\n",
              "      box-shadow: 0px 1px 3px 1px rgba(0, 0, 0, 0.15);\n",
              "      filter: drop-shadow(0px 1px 2px rgba(0, 0, 0, 0.3));\n",
              "      fill: #FFFFFF;\n",
              "    }\n",
              "  </style>\n",
              "\n",
              "    <script>\n",
              "      const buttonEl =\n",
              "        document.querySelector('#df-48441925-7245-472a-819b-2413d9a03e9f button.colab-df-convert');\n",
              "      buttonEl.style.display =\n",
              "        google.colab.kernel.accessAllowed ? 'block' : 'none';\n",
              "\n",
              "      async function convertToInteractive(key) {\n",
              "        const element = document.querySelector('#df-48441925-7245-472a-819b-2413d9a03e9f');\n",
              "        const dataTable =\n",
              "          await google.colab.kernel.invokeFunction('convertToInteractive',\n",
              "                                                    [key], {});\n",
              "        if (!dataTable) return;\n",
              "\n",
              "        const docLinkHtml = 'Like what you see? Visit the ' +\n",
              "          '<a target=\"_blank\" href=https://colab.research.google.com/notebooks/data_table.ipynb>data table notebook</a>'\n",
              "          + ' to learn more about interactive tables.';\n",
              "        element.innerHTML = '';\n",
              "        dataTable['output_type'] = 'display_data';\n",
              "        await google.colab.output.renderOutput(dataTable, element);\n",
              "        const docLink = document.createElement('div');\n",
              "        docLink.innerHTML = docLinkHtml;\n",
              "        element.appendChild(docLink);\n",
              "      }\n",
              "    </script>\n",
              "  </div>\n",
              "\n",
              "\n",
              "<div id=\"df-888c51d2-d095-4f36-91f6-00860e95ec51\">\n",
              "  <button class=\"colab-df-quickchart\" onclick=\"quickchart('df-888c51d2-d095-4f36-91f6-00860e95ec51')\"\n",
              "            title=\"Suggest charts\"\n",
              "            style=\"display:none;\">\n",
              "\n",
              "<svg xmlns=\"http://www.w3.org/2000/svg\" height=\"24px\"viewBox=\"0 0 24 24\"\n",
              "     width=\"24px\">\n",
              "    <g>\n",
              "        <path d=\"M19 3H5c-1.1 0-2 .9-2 2v14c0 1.1.9 2 2 2h14c1.1 0 2-.9 2-2V5c0-1.1-.9-2-2-2zM9 17H7v-7h2v7zm4 0h-2V7h2v10zm4 0h-2v-4h2v4z\"/>\n",
              "    </g>\n",
              "</svg>\n",
              "  </button>\n",
              "\n",
              "<style>\n",
              "  .colab-df-quickchart {\n",
              "      --bg-color: #E8F0FE;\n",
              "      --fill-color: #1967D2;\n",
              "      --hover-bg-color: #E2EBFA;\n",
              "      --hover-fill-color: #174EA6;\n",
              "      --disabled-fill-color: #AAA;\n",
              "      --disabled-bg-color: #DDD;\n",
              "  }\n",
              "\n",
              "  [theme=dark] .colab-df-quickchart {\n",
              "      --bg-color: #3B4455;\n",
              "      --fill-color: #D2E3FC;\n",
              "      --hover-bg-color: #434B5C;\n",
              "      --hover-fill-color: #FFFFFF;\n",
              "      --disabled-bg-color: #3B4455;\n",
              "      --disabled-fill-color: #666;\n",
              "  }\n",
              "\n",
              "  .colab-df-quickchart {\n",
              "    background-color: var(--bg-color);\n",
              "    border: none;\n",
              "    border-radius: 50%;\n",
              "    cursor: pointer;\n",
              "    display: none;\n",
              "    fill: var(--fill-color);\n",
              "    height: 32px;\n",
              "    padding: 0;\n",
              "    width: 32px;\n",
              "  }\n",
              "\n",
              "  .colab-df-quickchart:hover {\n",
              "    background-color: var(--hover-bg-color);\n",
              "    box-shadow: 0 1px 2px rgba(60, 64, 67, 0.3), 0 1px 3px 1px rgba(60, 64, 67, 0.15);\n",
              "    fill: var(--button-hover-fill-color);\n",
              "  }\n",
              "\n",
              "  .colab-df-quickchart-complete:disabled,\n",
              "  .colab-df-quickchart-complete:disabled:hover {\n",
              "    background-color: var(--disabled-bg-color);\n",
              "    fill: var(--disabled-fill-color);\n",
              "    box-shadow: none;\n",
              "  }\n",
              "\n",
              "  .colab-df-spinner {\n",
              "    border: 2px solid var(--fill-color);\n",
              "    border-color: transparent;\n",
              "    border-bottom-color: var(--fill-color);\n",
              "    animation:\n",
              "      spin 1s steps(1) infinite;\n",
              "  }\n",
              "\n",
              "  @keyframes spin {\n",
              "    0% {\n",
              "      border-color: transparent;\n",
              "      border-bottom-color: var(--fill-color);\n",
              "      border-left-color: var(--fill-color);\n",
              "    }\n",
              "    20% {\n",
              "      border-color: transparent;\n",
              "      border-left-color: var(--fill-color);\n",
              "      border-top-color: var(--fill-color);\n",
              "    }\n",
              "    30% {\n",
              "      border-color: transparent;\n",
              "      border-left-color: var(--fill-color);\n",
              "      border-top-color: var(--fill-color);\n",
              "      border-right-color: var(--fill-color);\n",
              "    }\n",
              "    40% {\n",
              "      border-color: transparent;\n",
              "      border-right-color: var(--fill-color);\n",
              "      border-top-color: var(--fill-color);\n",
              "    }\n",
              "    60% {\n",
              "      border-color: transparent;\n",
              "      border-right-color: var(--fill-color);\n",
              "    }\n",
              "    80% {\n",
              "      border-color: transparent;\n",
              "      border-right-color: var(--fill-color);\n",
              "      border-bottom-color: var(--fill-color);\n",
              "    }\n",
              "    90% {\n",
              "      border-color: transparent;\n",
              "      border-bottom-color: var(--fill-color);\n",
              "    }\n",
              "  }\n",
              "</style>\n",
              "\n",
              "  <script>\n",
              "    async function quickchart(key) {\n",
              "      const quickchartButtonEl =\n",
              "        document.querySelector('#' + key + ' button');\n",
              "      quickchartButtonEl.disabled = true;  // To prevent multiple clicks.\n",
              "      quickchartButtonEl.classList.add('colab-df-spinner');\n",
              "      try {\n",
              "        const charts = await google.colab.kernel.invokeFunction(\n",
              "            'suggestCharts', [key], {});\n",
              "      } catch (error) {\n",
              "        console.error('Error during call to suggestCharts:', error);\n",
              "      }\n",
              "      quickchartButtonEl.classList.remove('colab-df-spinner');\n",
              "      quickchartButtonEl.classList.add('colab-df-quickchart-complete');\n",
              "    }\n",
              "    (() => {\n",
              "      let quickchartButtonEl =\n",
              "        document.querySelector('#df-888c51d2-d095-4f36-91f6-00860e95ec51 button');\n",
              "      quickchartButtonEl.style.display =\n",
              "        google.colab.kernel.accessAllowed ? 'block' : 'none';\n",
              "    })();\n",
              "  </script>\n",
              "</div>\n",
              "\n",
              "    </div>\n",
              "  </div>\n"
            ],
            "application/vnd.google.colaboratory.intrinsic+json": {
              "type": "dataframe",
              "summary": "{\n  \"name\": \"result_df\",\n  \"rows\": 8,\n  \"fields\": [\n    {\n      \"column\": \"Profit\",\n      \"properties\": {\n        \"dtype\": \"number\",\n        \"std\": 3009.800836500078,\n        \"min\": 0.0,\n        \"max\": 8717.18023255814,\n        \"num_unique_values\": 8,\n        \"samples\": [\n          201.8163018073537,\n          68.51594660500915,\n          618.0\n        ],\n        \"semantic_type\": \"\",\n        \"description\": \"\"\n      }\n    }\n  ]\n}"
            }
          },
          "metadata": {},
          "execution_count": 116
        }
      ]
    },
    {
      "cell_type": "markdown",
      "source": [
        "## Companies taking a Loss"
      ],
      "metadata": {
        "id": "ImVFYJ6WwzJA"
      }
    },
    {
      "cell_type": "code",
      "source": [
        "fail['Deal Size'] = pd.to_numeric(fail['Deal Size'], errors='coerce')\n",
        "\n",
        "fail['Deal Size'].describe()"
      ],
      "metadata": {
        "colab": {
          "base_uri": "https://localhost:8080/",
          "height": 439
        },
        "id": "xume4jnXw00D",
        "outputId": "a217a69b-cec6-4f38-ee0d-ebfd51e2ff9f"
      },
      "execution_count": null,
      "outputs": [
        {
          "output_type": "stream",
          "name": "stderr",
          "text": [
            "<ipython-input-117-a469ee8202f3>:1: SettingWithCopyWarning: \n",
            "A value is trying to be set on a copy of a slice from a DataFrame.\n",
            "Try using .loc[row_indexer,col_indexer] = value instead\n",
            "\n",
            "See the caveats in the documentation: https://pandas.pydata.org/pandas-docs/stable/user_guide/indexing.html#returning-a-view-versus-a-copy\n",
            "  fail['Deal Size'] = pd.to_numeric(fail['Deal Size'], errors='coerce')\n"
          ]
        },
        {
          "output_type": "execute_result",
          "data": {
            "text/plain": [
              "count    7053.000000\n",
              "mean        3.803973\n",
              "std        14.521919\n",
              "min         0.010000\n",
              "25%         0.450000\n",
              "50%         1.300000\n",
              "75%         3.160000\n",
              "max       654.000000\n",
              "Name: Deal Size, dtype: float64"
            ],
            "text/html": [
              "<div>\n",
              "<style scoped>\n",
              "    .dataframe tbody tr th:only-of-type {\n",
              "        vertical-align: middle;\n",
              "    }\n",
              "\n",
              "    .dataframe tbody tr th {\n",
              "        vertical-align: top;\n",
              "    }\n",
              "\n",
              "    .dataframe thead th {\n",
              "        text-align: right;\n",
              "    }\n",
              "</style>\n",
              "<table border=\"1\" class=\"dataframe\">\n",
              "  <thead>\n",
              "    <tr style=\"text-align: right;\">\n",
              "      <th></th>\n",
              "      <th>Deal Size</th>\n",
              "    </tr>\n",
              "  </thead>\n",
              "  <tbody>\n",
              "    <tr>\n",
              "      <th>count</th>\n",
              "      <td>7053.000000</td>\n",
              "    </tr>\n",
              "    <tr>\n",
              "      <th>mean</th>\n",
              "      <td>3.803973</td>\n",
              "    </tr>\n",
              "    <tr>\n",
              "      <th>std</th>\n",
              "      <td>14.521919</td>\n",
              "    </tr>\n",
              "    <tr>\n",
              "      <th>min</th>\n",
              "      <td>0.010000</td>\n",
              "    </tr>\n",
              "    <tr>\n",
              "      <th>25%</th>\n",
              "      <td>0.450000</td>\n",
              "    </tr>\n",
              "    <tr>\n",
              "      <th>50%</th>\n",
              "      <td>1.300000</td>\n",
              "    </tr>\n",
              "    <tr>\n",
              "      <th>75%</th>\n",
              "      <td>3.160000</td>\n",
              "    </tr>\n",
              "    <tr>\n",
              "      <th>max</th>\n",
              "      <td>654.000000</td>\n",
              "    </tr>\n",
              "  </tbody>\n",
              "</table>\n",
              "</div><br><label><b>dtype:</b> float64</label>"
            ]
          },
          "metadata": {},
          "execution_count": 117
        }
      ]
    },
    {
      "cell_type": "markdown",
      "metadata": {
        "id": "rtGS3w9HM60_"
      },
      "source": [
        "## Get target variable distribution"
      ]
    },
    {
      "cell_type": "code",
      "execution_count": null,
      "metadata": {
        "colab": {
          "base_uri": "https://localhost:8080/"
        },
        "id": "4pkr9QUQMYAI",
        "outputId": "67a0fee2-ac98-42a3-b622-9770deea8b0e"
      },
      "outputs": [
        {
          "output_type": "stream",
          "name": "stdout",
          "text": [
            "Number of companies that raised more than 100 million in funding:  780\n",
            "Number of unicorns:  124\n",
            "Number of companies that achieved valuation higher than 100m:  846\n"
          ]
        }
      ],
      "source": [
        "raised100m_companies1 = final_df[(final_df[\"is_last_round\"] == 1) & (final_df[\"Raised > 100m\"] == 1)]\n",
        "unicorn_companies1 = final_df[(final_df[\"is_last_round\"] == 1) & (final_df[\"Unicorn\"] == 1)]\n",
        "valuation_100m = final_df[(final_df[\"is_last_round\"] == 1) & (final_df[\"Valuation > 100m\"] == 1)]\n",
        "print(\"Number of companies that raised more than 100 million in funding: \", len(raised100m_companies1))\n",
        "print(\"Number of unicorns: \", len(unicorn_companies1))\n",
        "print(\"Number of companies that achieved valuation higher than 100m: \", len(valuation_100m))"
      ]
    },
    {
      "cell_type": "markdown",
      "metadata": {
        "id": "Q9DiRs9ZTTIf"
      },
      "source": [
        "## Create a binary variable indicating whether the company had a previous funding round or not"
      ]
    },
    {
      "cell_type": "code",
      "execution_count": null,
      "metadata": {
        "id": "Z3eabJqMTSup"
      },
      "outputs": [],
      "source": [
        "previous_round = [0 if row == 1 else 1 for row in final_df[\"Deal No.\"]]\n",
        "final_df[\"Previous_Funding_Round\"] = pd.Series(previous_round)"
      ]
    },
    {
      "cell_type": "markdown",
      "metadata": {
        "id": "4Mz29fzNNiK_"
      },
      "source": [
        "## Define steps for NLP preprocessing"
      ]
    },
    {
      "cell_type": "code",
      "execution_count": null,
      "metadata": {
        "colab": {
          "base_uri": "https://localhost:8080/"
        },
        "id": "Y3SA-0bFNXlX",
        "outputId": "eae09581-86de-47a9-aa54-7651d2e8db62"
      },
      "outputs": [
        {
          "output_type": "stream",
          "name": "stderr",
          "text": [
            "[nltk_data] Downloading package punkt to /root/nltk_data...\n",
            "[nltk_data]   Unzipping tokenizers/punkt.zip.\n",
            "[nltk_data] Downloading package stopwords to /root/nltk_data...\n",
            "[nltk_data]   Unzipping corpora/stopwords.zip.\n",
            "[nltk_data] Downloading package punkt_tab to /root/nltk_data...\n",
            "[nltk_data]   Unzipping tokenizers/punkt_tab.zip.\n"
          ]
        }
      ],
      "source": [
        "import nltk\n",
        "from string import punctuation\n",
        "from nltk.tokenize import word_tokenize\n",
        "from nltk.corpus import stopwords\n",
        "from nltk.stem import PorterStemmer\n",
        "\n",
        "\n",
        "nltk.download('punkt')\n",
        "nltk.download('stopwords')\n",
        "nltk.download('punkt_tab')\n",
        "\n",
        "stop_words = set(stopwords.words('english'))\n",
        "porter = PorterStemmer()\n",
        "\n",
        "# Function to remove punctuation\n",
        "def remove_punctuation(document):\n",
        "\n",
        "    no_punct = \"\".join([c for c in document if c not in punctuation])\n",
        "\n",
        "    return no_punct\n",
        "\n",
        "# Function to remove digits\n",
        "def remove_digit(document):\n",
        "\n",
        "    no_digit = \"\".join([c for c in document if not c.isdigit()])\n",
        "\n",
        "    return no_digit\n",
        "\n",
        "# Tokenize and remove stopwords\n",
        "def tokenize_and_remove_stopwords(document):\n",
        "\n",
        "    words = word_tokenize(document)\n",
        "    words = [word for word in words if word not in stop_words]\n",
        "\n",
        "    return words\n",
        "\n",
        "# Perform stemming\n",
        "def stemmer(document):\n",
        "\n",
        "    stemmed_document = [porter.stem(word) for word in document]\n",
        "\n",
        "    return stemmed_document\n",
        "\n",
        "# Function to preprocess text columns\n",
        "def preprocess_text(x):\n",
        "    # If input is NaN, empty string, or empty list, return 'Missing'\n",
        "    if (pd.isna(x) or\n",
        "        x == '' or\n",
        "        (isinstance(x, list) and len(x) == 0)):\n",
        "        return 'Missing'\n",
        "\n",
        "    if not isinstance(x, str):\n",
        "        return x\n",
        "\n",
        "    # Preprocessing steps\n",
        "    x = x.lower()\n",
        "    x = remove_punctuation(x)\n",
        "    x = remove_digit(x)\n",
        "    x = tokenize_and_remove_stopwords(x)\n",
        "    x = stemmer(x)\n",
        "\n",
        "    # If preprocessing results in empty list or empty string, return 'Missing'\n",
        "    if not x or (isinstance(x, list) and len(x) == 0):\n",
        "        return 'Missing'\n",
        "\n",
        "    return x"
      ]
    },
    {
      "cell_type": "markdown",
      "metadata": {
        "id": "dmDBzaT8OAE1"
      },
      "source": [
        "## Perform processing for CEO Education, Keywords, and CEO Biography"
      ]
    },
    {
      "cell_type": "code",
      "execution_count": null,
      "metadata": {
        "id": "dOw4KpzONmlA"
      },
      "outputs": [],
      "source": [
        "columns_to_process = ['CEO Education', 'Keywords', 'CEO Biography']\n",
        "for col in columns_to_process:\n",
        "    final_df[col] = final_df[col].apply(preprocess_text)"
      ]
    },
    {
      "cell_type": "code",
      "execution_count": null,
      "metadata": {
        "id": "_RZc3q0M4FvG"
      },
      "outputs": [],
      "source": [
        "def add_col_name(document, string):\n",
        "\n",
        "    added_document = [\"\".join([word, string]) for word in document]\n",
        "\n",
        "    return added_document"
      ]
    },
    {
      "cell_type": "code",
      "execution_count": null,
      "metadata": {
        "id": "nJDzpKl14Ilk"
      },
      "outputs": [],
      "source": [
        "final_df[\"CEO Education\"] = final_df[\"CEO Education\"].apply(lambda x: add_col_name(x,\"_edu\"))\n",
        "final_df[\"CEO Biography\"] = final_df[\"CEO Biography\"].apply(lambda x: add_col_name(x,\"_bio\"))\n",
        "final_df[\"Keywords\"] = final_df[\"Keywords\"].apply(lambda x: add_col_name(x,\"_key\"))"
      ]
    },
    {
      "cell_type": "markdown",
      "metadata": {
        "id": "P6-PhpegOKOn"
      },
      "source": [
        "## Apply TF-IDF Vectorization"
      ]
    },
    {
      "cell_type": "code",
      "execution_count": null,
      "metadata": {
        "id": "omYXxQdvOF5h"
      },
      "outputs": [],
      "source": [
        "from nltk.tokenize.treebank import TreebankWordDetokenizer\n",
        "from sklearn.feature_extraction.text import TfidfVectorizer, TfidfTransformer\n",
        "from sklearn.feature_selection import SelectKBest, chi2\n",
        "\n",
        "def tf_idf_term_matrix(column, maxfeatures):\n",
        "\n",
        "\n",
        "    column_detokenized = column.apply(TreebankWordDetokenizer().detokenize)\n",
        "\n",
        "    # TF-IDF Vectorization\n",
        "    vectorizer = TfidfVectorizer(\n",
        "        max_features=maxfeatures,    # Limit total features to 1000\n",
        "        max_df=0.9,           # Ignore terms in > 90% of documents\n",
        "        min_df=0.005              # Ignore terms in fewer than 0.5% documents\n",
        "    )\n",
        "\n",
        "    # Transform text to feature matrix\n",
        "    sparse = vectorizer.fit_transform(column_detokenized)\n",
        "\n",
        "    return sparse, vectorizer\n",
        "\n",
        "sparse_ceo_edu, vectorizer_edu = tf_idf_term_matrix(final_df[\"CEO Education\"],100) ## only about 150 in total\n",
        "sparse_keywords, vectorizer_keywords = tf_idf_term_matrix(final_df[\"Keywords\"],300)\n",
        "sparse_ceo_biography, vectorizer_ceo_bio = tf_idf_term_matrix(final_df[\"CEO Biography\"],150)"
      ]
    },
    {
      "cell_type": "markdown",
      "metadata": {
        "id": "KvqAwfq5OPkV"
      },
      "source": [
        "## Create text feature dataframes"
      ]
    },
    {
      "cell_type": "code",
      "execution_count": null,
      "metadata": {
        "id": "1Lly5PCxOO0G"
      },
      "outputs": [],
      "source": [
        "ceo_education_features = pd.DataFrame(\n",
        "    sparse_ceo_edu.toarray(),\n",
        "    columns=vectorizer_edu.get_feature_names_out(),\n",
        "    index=final_df.index\n",
        ")\n",
        "\n",
        "keyword_features = pd.DataFrame(\n",
        "    sparse_keywords.toarray(),\n",
        "    columns=vectorizer_keywords.get_feature_names_out(),\n",
        "    index=final_df.index\n",
        ")\n",
        "ceo_bio_features = pd.DataFrame(\n",
        "    sparse_ceo_biography.toarray(),\n",
        "    columns=vectorizer_ceo_bio.get_feature_names_out(),\n",
        "    index=final_df.index\n",
        ")"
      ]
    },
    {
      "cell_type": "code",
      "execution_count": null,
      "metadata": {
        "colab": {
          "base_uri": "https://localhost:8080/",
          "height": 398
        },
        "id": "X51jwXGZbi00",
        "outputId": "4a9e774a-f795-4abe-dae8-4e7e2177f24c"
      },
      "outputs": [
        {
          "output_type": "execute_result",
          "data": {
            "text/plain": [
              "platform_key     1730.263301\n",
              "manag_key        1580.645551\n",
              "data_key         1280.521293\n",
              "servic_key       1241.303268\n",
              "technolog_key    1211.094079\n",
              "product_key      1159.798325\n",
              "softwar_key      1007.984952\n",
              "system_key        960.025256\n",
              "analyt_key        910.308906\n",
              "devic_key         852.778659\n",
              "dtype: float64"
            ],
            "text/html": [
              "<div>\n",
              "<style scoped>\n",
              "    .dataframe tbody tr th:only-of-type {\n",
              "        vertical-align: middle;\n",
              "    }\n",
              "\n",
              "    .dataframe tbody tr th {\n",
              "        vertical-align: top;\n",
              "    }\n",
              "\n",
              "    .dataframe thead th {\n",
              "        text-align: right;\n",
              "    }\n",
              "</style>\n",
              "<table border=\"1\" class=\"dataframe\">\n",
              "  <thead>\n",
              "    <tr style=\"text-align: right;\">\n",
              "      <th></th>\n",
              "      <th>0</th>\n",
              "    </tr>\n",
              "  </thead>\n",
              "  <tbody>\n",
              "    <tr>\n",
              "      <th>platform_key</th>\n",
              "      <td>1730.263301</td>\n",
              "    </tr>\n",
              "    <tr>\n",
              "      <th>manag_key</th>\n",
              "      <td>1580.645551</td>\n",
              "    </tr>\n",
              "    <tr>\n",
              "      <th>data_key</th>\n",
              "      <td>1280.521293</td>\n",
              "    </tr>\n",
              "    <tr>\n",
              "      <th>servic_key</th>\n",
              "      <td>1241.303268</td>\n",
              "    </tr>\n",
              "    <tr>\n",
              "      <th>technolog_key</th>\n",
              "      <td>1211.094079</td>\n",
              "    </tr>\n",
              "    <tr>\n",
              "      <th>product_key</th>\n",
              "      <td>1159.798325</td>\n",
              "    </tr>\n",
              "    <tr>\n",
              "      <th>softwar_key</th>\n",
              "      <td>1007.984952</td>\n",
              "    </tr>\n",
              "    <tr>\n",
              "      <th>system_key</th>\n",
              "      <td>960.025256</td>\n",
              "    </tr>\n",
              "    <tr>\n",
              "      <th>analyt_key</th>\n",
              "      <td>910.308906</td>\n",
              "    </tr>\n",
              "    <tr>\n",
              "      <th>devic_key</th>\n",
              "      <td>852.778659</td>\n",
              "    </tr>\n",
              "  </tbody>\n",
              "</table>\n",
              "</div><br><label><b>dtype:</b> float64</label>"
            ]
          },
          "metadata": {},
          "execution_count": 126
        }
      ],
      "source": [
        "pd.set_option(\"display.max_rows()\", None)\n",
        "keyword_features.sum().sort_values(ascending=False).head(10)"
      ]
    },
    {
      "cell_type": "code",
      "execution_count": null,
      "metadata": {
        "colab": {
          "base_uri": "https://localhost:8080/",
          "height": 398
        },
        "id": "CwKsezDNiKXy",
        "outputId": "513d9d4a-22cf-437d-a036-d4e52732c41a"
      },
      "outputs": [
        {
          "output_type": "execute_result",
          "data": {
            "text/plain": [
              "univers_edu      2871.648050\n",
              "bachelor_edu     1961.148708\n",
              "scienc_edu       1955.510098\n",
              "busi_edu         1420.955844\n",
              "master_edu       1386.638668\n",
              "degre_edu        1302.853896\n",
              "bs_edu           1204.418022\n",
              "art_edu          1064.041335\n",
              "administr_edu    1054.258812\n",
              "engin_edu        1035.987131\n",
              "dtype: float64"
            ],
            "text/html": [
              "<div>\n",
              "<style scoped>\n",
              "    .dataframe tbody tr th:only-of-type {\n",
              "        vertical-align: middle;\n",
              "    }\n",
              "\n",
              "    .dataframe tbody tr th {\n",
              "        vertical-align: top;\n",
              "    }\n",
              "\n",
              "    .dataframe thead th {\n",
              "        text-align: right;\n",
              "    }\n",
              "</style>\n",
              "<table border=\"1\" class=\"dataframe\">\n",
              "  <thead>\n",
              "    <tr style=\"text-align: right;\">\n",
              "      <th></th>\n",
              "      <th>0</th>\n",
              "    </tr>\n",
              "  </thead>\n",
              "  <tbody>\n",
              "    <tr>\n",
              "      <th>univers_edu</th>\n",
              "      <td>2871.648050</td>\n",
              "    </tr>\n",
              "    <tr>\n",
              "      <th>bachelor_edu</th>\n",
              "      <td>1961.148708</td>\n",
              "    </tr>\n",
              "    <tr>\n",
              "      <th>scienc_edu</th>\n",
              "      <td>1955.510098</td>\n",
              "    </tr>\n",
              "    <tr>\n",
              "      <th>busi_edu</th>\n",
              "      <td>1420.955844</td>\n",
              "    </tr>\n",
              "    <tr>\n",
              "      <th>master_edu</th>\n",
              "      <td>1386.638668</td>\n",
              "    </tr>\n",
              "    <tr>\n",
              "      <th>degre_edu</th>\n",
              "      <td>1302.853896</td>\n",
              "    </tr>\n",
              "    <tr>\n",
              "      <th>bs_edu</th>\n",
              "      <td>1204.418022</td>\n",
              "    </tr>\n",
              "    <tr>\n",
              "      <th>art_edu</th>\n",
              "      <td>1064.041335</td>\n",
              "    </tr>\n",
              "    <tr>\n",
              "      <th>administr_edu</th>\n",
              "      <td>1054.258812</td>\n",
              "    </tr>\n",
              "    <tr>\n",
              "      <th>engin_edu</th>\n",
              "      <td>1035.987131</td>\n",
              "    </tr>\n",
              "  </tbody>\n",
              "</table>\n",
              "</div><br><label><b>dtype:</b> float64</label>"
            ]
          },
          "metadata": {},
          "execution_count": 127
        }
      ],
      "source": [
        "ceo_education_features.sum().sort_values(ascending=False).iloc[6:16]"
      ]
    },
    {
      "cell_type": "markdown",
      "metadata": {
        "id": "X8Cam_b63wQt"
      },
      "source": [
        "## Generate categorical features for Vertical"
      ]
    },
    {
      "cell_type": "code",
      "execution_count": null,
      "metadata": {
        "colab": {
          "base_uri": "https://localhost:8080/"
        },
        "id": "88OxRjSaAETs",
        "outputId": "989dcc62-b071-4cba-fad7-96fd74baff7f"
      },
      "outputs": [
        {
          "output_type": "execute_result",
          "data": {
            "text/plain": [
              "(29577, 50)"
            ]
          },
          "metadata": {},
          "execution_count": 128
        }
      ],
      "source": [
        "final_df.shape"
      ]
    },
    {
      "cell_type": "code",
      "execution_count": null,
      "metadata": {
        "id": "3phpQras3mrS"
      },
      "outputs": [],
      "source": [
        "final_df[\"Vertical\"] = final_df[\"Vertical\"].fillna('Missing')\n",
        "final_df[\"Vertical\"] = final_df[\"Vertical\"].apply(lambda x: 'Missing' if isinstance(x, float) else x)\n"
      ]
    },
    {
      "cell_type": "code",
      "execution_count": null,
      "metadata": {
        "id": "RvDt_Vpe6eiZ"
      },
      "outputs": [],
      "source": [
        "def expand_categorical_column(df, column_name):\n",
        "\n",
        "    expanded_df = df.copy()\n",
        "\n",
        "    # Split the categories and get unique categories\n",
        "    all_categories = set(\n",
        "        category.strip()\n",
        "        for categories in expanded_df[column_name]\n",
        "        for category in categories.split(','))\n",
        "\n",
        "    # Create binary columns for each unique category\n",
        "    for category in all_categories:\n",
        "        expanded_df[category] = expanded_df[column_name].apply(\n",
        "            lambda x: 1 if category in str(x).split(',') else 0\n",
        "        )\n",
        "\n",
        "    return expanded_df"
      ]
    },
    {
      "cell_type": "code",
      "execution_count": null,
      "metadata": {
        "colab": {
          "base_uri": "https://localhost:8080/"
        },
        "id": "lMqg9cFxAOnr",
        "outputId": "5f03fa65-fe7d-4539-b4ed-f12540a5004c"
      },
      "outputs": [
        {
          "output_type": "execute_result",
          "data": {
            "text/plain": [
              "(29577, 110)"
            ]
          },
          "metadata": {},
          "execution_count": 131
        }
      ],
      "source": [
        "final_df = expand_categorical_column(final_df, \"Vertical\")\n",
        "final_df.shape"
      ]
    },
    {
      "cell_type": "markdown",
      "source": [
        "Create Feature Deal Type (Series) for filtering"
      ],
      "metadata": {
        "id": "tPbI_V2MmaFV"
      }
    },
    {
      "cell_type": "code",
      "source": [
        "final_df['Deal Type (Series)']=final_df['Deal Type 2']"
      ],
      "metadata": {
        "id": "IfeH6k6OmYRG"
      },
      "execution_count": null,
      "outputs": []
    },
    {
      "cell_type": "markdown",
      "metadata": {
        "id": "GITbBoLf3swB"
      },
      "source": [
        "## Preprocess categorical columns"
      ]
    },
    {
      "cell_type": "code",
      "execution_count": null,
      "metadata": {
        "id": "j0tXAg412HL_"
      },
      "outputs": [],
      "source": [
        "def preprocess_categorical_columns(df, columns):\n",
        "\n",
        "    processed_df = df.copy()\n",
        "\n",
        "    # Process each specified column\n",
        "    for col in columns:\n",
        "\n",
        "        processed_df[col] = processed_df[col].fillna('Missing')\n",
        "        processed_df[col] = processed_df[col].astype('category')\n",
        "\n",
        "        # Perform one-hot encoding\n",
        "        # Find the most common category to drop as reference\n",
        "        most_common = processed_df[col].mode()[0]\n",
        "        print(most_common)\n",
        "\n",
        "        # Create one-hot encoded columns\n",
        "        dummies = pd.get_dummies(\n",
        "            processed_df[col],\n",
        "            prefix=col,\n",
        "            drop_first=True,  # Drop the most common category\n",
        "            prefix_sep='_',\n",
        "            dtype=int\n",
        "        )\n",
        "\n",
        "        # Remove the original categorical column\n",
        "        processed_df = processed_df.drop(columns=[col])\n",
        "\n",
        "        # Add one-hot encoded columns\n",
        "        processed_df = pd.concat([processed_df, dummies], axis=1)\n",
        "\n",
        "    return processed_df"
      ]
    },
    {
      "cell_type": "code",
      "execution_count": null,
      "metadata": {
        "colab": {
          "base_uri": "https://localhost:8080/"
        },
        "id": "QeanS3ULzRkP",
        "outputId": "6a5dc0d7-2895-48ef-8f43-8b97e1a08695"
      },
      "outputs": [
        {
          "output_type": "stream",
          "name": "stdout",
          "text": [
            "Business/Productivity Software\n",
            "2017\n",
            "Generating Revenue\n",
            "Information Technology\n",
            "Missing\n",
            "Q1\n",
            "East Coast\n"
          ]
        }
      ],
      "source": [
        "categorical_columns = [\"Primary Industry Code\", \"Year Founded\", \"Current Business Status\",\n",
        "                       \"Primary Industry Sector\", \"Deal Type 2\", \"Business_Quarter_at_Deal\",\n",
        "                       \"HQ_Geographical_Region\"]\n",
        "final_df = preprocess_categorical_columns(final_df, categorical_columns)"
      ]
    },
    {
      "cell_type": "markdown",
      "metadata": {
        "id": "8sM4tSes4aJN"
      },
      "source": [
        "## Drop columns we don't need and concatenate all feature dataframes"
      ]
    },
    {
      "cell_type": "code",
      "execution_count": null,
      "metadata": {
        "id": "PzEml2DD4UZA"
      },
      "outputs": [],
      "source": [
        "final_df.drop(columns=[\"Deal No.\", \"Current Employees\", \"Deal Date\", \"City\",\n",
        "                       \"CEO Biography\", \"CEO Education\", \"Keywords\", \"Deal Type\", \"Deal Status\",\n",
        "                       \"Financing Status\", \"Business Status\", \"Vertical\", \"Description\",\n",
        "                       \"HQ Location\", \"Deal Size\", \"Raised to Date\", \"Total Invested Equity\",\n",
        "                       \"Post Valuation\", \"Revenue\", \"Active Patent Documents\", \"Total Patent Documents\",\n",
        "                       \"Pending Patent Documents\", \"Net Income\", \"EBITDA\", \"Gross Profit\", \"Investors\",\n",
        "                       \"Year_of_Deal\", \"HQ_State\", \"HQ_City\"], inplace=True)"
      ]
    },
    {
      "cell_type": "code",
      "execution_count": null,
      "metadata": {
        "id": "Cxyw7vdd541Z"
      },
      "outputs": [],
      "source": [
        "final_df = pd.concat([final_df, ceo_education_features, keyword_features, ceo_bio_features], axis=1)"
      ]
    },
    {
      "cell_type": "code",
      "execution_count": null,
      "metadata": {
        "colab": {
          "base_uri": "https://localhost:8080/"
        },
        "id": "zPNOJ2q33T1d",
        "outputId": "8c82171c-84f0-42f7-c7a7-59c1068127e3"
      },
      "outputs": [
        {
          "output_type": "execute_result",
          "data": {
            "text/plain": [
              "(29577, 874)"
            ]
          },
          "metadata": {},
          "execution_count": 137
        }
      ],
      "source": [
        "pd.set_option(\"display.max_columns\", None)\n",
        "final_df.shape"
      ]
    },
    {
      "cell_type": "markdown",
      "metadata": {
        "id": "-YUFD4qF3MeN"
      },
      "source": []
    },
    {
      "cell_type": "markdown",
      "metadata": {
        "id": "Rj9EXml8OrAw"
      },
      "source": [
        "## Output data with features"
      ]
    },
    {
      "cell_type": "code",
      "execution_count": null,
      "metadata": {
        "id": "YQ1mBNFwOj1q"
      },
      "outputs": [],
      "source": [
        "directory_Luis= \"/content/drive/MyDrive/Berkeley/Machine Learning 1/Startup Success Machine Learning Folder/Pitchbook/AB2_Data_FeatureENG_page_1_253+X.csv\"\n",
        "directory_vincent = '/content/drive/MyDrive/Startup Success Machine Learning Folder/Pitchbook/AB2_Data_FeatureENG_page_1_253+X.csv'\n",
        "directory_veer = '/content/drive/MyDrive/Startup Success Machine Learning Folder/Pitchbook/AB2_Data_FeatureENG_page_1_253+X.csv'\n",
        "final_df.to_csv(directory_veer, index=False)"
      ]
    }
  ],
  "metadata": {
    "colab": {
      "provenance": []
    },
    "kernelspec": {
      "display_name": "base",
      "language": "python",
      "name": "python3"
    },
    "language_info": {
      "codemirror_mode": {
        "name": "ipython",
        "version": 3
      },
      "file_extension": ".py",
      "mimetype": "text/x-python",
      "name": "python",
      "nbconvert_exporter": "python",
      "pygments_lexer": "ipython3",
      "version": "3.12.4"
    }
  },
  "nbformat": 4,
  "nbformat_minor": 0
}